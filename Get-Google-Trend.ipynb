{
 "cells": [
  {
   "cell_type": "code",
   "execution_count": 1,
   "id": "ab8573d6",
   "metadata": {},
   "outputs": [],
   "source": [
    "# !pip install pytrends\n",
    "# !pip install pymongo\n",
    "# !pip install jupyter_scheduler"
   ]
  },
  {
   "cell_type": "code",
   "execution_count": 2,
   "id": "fc211516",
   "metadata": {},
   "outputs": [],
   "source": [
    "# import library\n",
    "from pytrends.request import TrendReq\n",
    "import pandas as pd\n",
    "import pymongo\n",
    "from datetime import date"
   ]
  },
  {
   "cell_type": "code",
   "execution_count": 3,
   "id": "1c1b16c2",
   "metadata": {},
   "outputs": [],
   "source": [
    "# get today's trending topics\n",
    "pytrends = TrendReq(hl='en-US')\n",
    "\n",
    "trending_search = pytrends.trending_searches(pn='malaysia') \n",
    "trending_search.rename(columns={0:\"Keywords\"},inplace=True)\n",
    "# malaysia australia united_states\n",
    "# display(trending_search.head(20))"
   ]
  },
  {
   "cell_type": "code",
   "execution_count": 4,
   "id": "d33dad09",
   "metadata": {
    "tags": []
   },
   "outputs": [],
   "source": [
    "# # config MongoDB URi\n",
    "# client = pymongo.MongoClient(host=\"mongodb://tersakiti.top:27017/\", \n",
    "#                              username=\"root\", password=\"password\",\n",
    "#                             serverSelectionTimeoutMS = 3000)\n",
    "# database = client[\"GoogleTrend\"]\n",
    "# todaydate = date.today()\n",
    "# recordname = todaydate.strftime(\"%Y_%m_%d\")\n",
    "\n",
    "# # convert data into dictionary\n",
    "# data = trending_search.to_dict(orient = \"records\")\n",
    "\n",
    "# # insert data into MongoDB\n",
    "# database[recordname].drop()\n",
    "# database[recordname].insert_many(data)"
   ]
  },
  {
   "cell_type": "code",
   "execution_count": 5,
   "id": "4e39b721-bc00-42b4-a221-6e0a48c85ae9",
   "metadata": {
    "tags": []
   },
   "outputs": [],
   "source": [
    "client = pymongo.MongoClient(host=\"mongodb://url:27017/\",\n",
    "                             username=\"root\", password=\"password\",\n",
    "                             serverSelectionTimeoutMS = 3000)\n",
    "database = client[\"GoogleTrend\"]\n",
    "todaydate = date.today().strftime(\"%Y_%m_%d\")\n",
    "recordname = \"Trending\"\n",
    "#todaydate = \"2023_06_05\"\n",
    "\n",
    "data = trending_search.to_dict(orient = \"list\")\n",
    "data['date'] = todaydate\n",
    "\n",
    "# insert data into MongoDB\n",
    "delete_result = database[recordname].delete_one({\"date\": todaydate})\n",
    "insert_result = database[recordname].insert_one(data)"
   ]
  },
  {
   "cell_type": "code",
   "execution_count": 6,
   "id": "2cff19d1-1c49-457d-aa5f-ecd17f666b09",
   "metadata": {
    "tags": []
   },
   "outputs": [
    {
     "name": "stdout",
     "output_type": "stream",
     "text": [
      "0\n",
      "64834dab71a966e606f55bcd\n"
     ]
    }
   ],
   "source": [
    "print(delete_result.deleted_count)\n",
    "print(insert_result.inserted_id)"
   ]
  },
  {
   "cell_type": "code",
   "execution_count": 7,
   "id": "0f0ce06a-94ac-443b-84f1-1ef94a1f1635",
   "metadata": {
    "tags": []
   },
   "outputs": [],
   "source": [
    "with open('trend_mongodb_result.log', 'a') as f:\n",
    "    f.write(\"Date: {date} \\t Delete Result: {delete_result} \\t Insert Result: {insert_result}\\n\"\n",
    "            .format(date=todaydate, delete_result=delete_result.deleted_count, insert_result=insert_result.inserted_id))"
   ]
  }
 ],
 "metadata": {
  "kernelspec": {
   "display_name": "Python 3 (ipykernel)",
   "language": "python",
   "name": "python3"
  },
  "language_info": {
   "codemirror_mode": {
    "name": "ipython",
    "version": 3
   },
   "file_extension": ".py",
   "mimetype": "text/x-python",
   "name": "python",
   "nbconvert_exporter": "python",
   "pygments_lexer": "ipython3",
   "version": "3.10.11"
  },
  "toc-autonumbering": false,
  "toc-showcode": false,
  "toc-showmarkdowntxt": false
 },
 "nbformat": 4,
 "nbformat_minor": 5
}
